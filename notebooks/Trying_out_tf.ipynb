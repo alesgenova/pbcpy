{
 "cells": [
  {
   "cell_type": "markdown",
   "metadata": {},
   "source": [
    "## Examples in README.md"
   ]
  },
  {
   "cell_type": "code",
   "execution_count": 39,
   "metadata": {},
   "outputs": [
    {
     "name": "stdout",
     "output_type": "stream",
     "text": [
      "The autoreload extension is already loaded. To reload it, use:\n",
      "  %reload_ext autoreload\n"
     ]
    }
   ],
   "source": [
    "import numpy as np\n",
    "import sys\n",
    "if \"../src/\" not in sys.path:\n",
    "    sys.path.insert(0,\"../src/\")\n",
    "%load_ext autoreload\n",
    "%autoreload 2"
   ]
  },
  {
   "cell_type": "code",
   "execution_count": 2,
   "metadata": {},
   "outputs": [],
   "source": [
    "import tensorflow as tf"
   ]
  },
  {
   "cell_type": "code",
   "execution_count": 3,
   "metadata": {},
   "outputs": [
    {
     "data": {
      "text/plain": [
       "'1.14.0'"
      ]
     },
     "execution_count": 3,
     "metadata": {},
     "output_type": "execute_result"
    }
   ],
   "source": [
    "tf.VERSION"
   ]
  },
  {
   "cell_type": "code",
   "execution_count": 40,
   "metadata": {},
   "outputs": [],
   "source": [
    "from pbcpy.field import DirectField\n",
    "from pbcpy.grid import DirectGrid\n",
    "from pbcpy.base import DirectCell"
   ]
  },
  {
   "cell_type": "code",
   "execution_count": 8,
   "metadata": {},
   "outputs": [],
   "source": [
    "from pbcpy.formats.qepp import PP"
   ]
  },
  {
   "cell_type": "code",
   "execution_count": 9,
   "metadata": {},
   "outputs": [],
   "source": [
    "water_dimer = PP(filepp=\"../tests/density_ks.pp\").read()"
   ]
  },
  {
   "cell_type": "code",
   "execution_count": null,
   "metadata": {},
   "outputs": [],
   "source": []
  },
  {
   "cell_type": "code",
   "execution_count": 10,
   "metadata": {},
   "outputs": [],
   "source": [
    "rho = water_dimer.field"
   ]
  },
  {
   "cell_type": "code",
   "execution_count": 74,
   "metadata": {},
   "outputs": [
    {
     "data": {
      "text/plain": [
       "array([125, 125, 125])"
      ]
     },
     "execution_count": 74,
     "metadata": {},
     "output_type": "execute_result"
    }
   ],
   "source": [
    "rho.grid.nr"
   ]
  },
  {
   "cell_type": "code",
   "execution_count": 65,
   "metadata": {},
   "outputs": [],
   "source": [
    "a = tf.convert_to_tensor(rho[:,:,:,0],dtype=tf.complex64)"
   ]
  },
  {
   "cell_type": "code",
   "execution_count": 66,
   "metadata": {},
   "outputs": [],
   "source": [
    "aa=a.eval()"
   ]
  },
  {
   "cell_type": "code",
   "execution_count": 67,
   "metadata": {},
   "outputs": [
    {
     "data": {
      "text/plain": [
       "DirectField(7.70079206e-05)"
      ]
     },
     "execution_count": 67,
     "metadata": {},
     "output_type": "execute_result"
    }
   ],
   "source": [
    "np.real(aa-rho).sum()"
   ]
  },
  {
   "cell_type": "code",
   "execution_count": 68,
   "metadata": {},
   "outputs": [],
   "source": [
    "b=tf.signal.fft3d(a)"
   ]
  },
  {
   "cell_type": "code",
   "execution_count": 73,
   "metadata": {},
   "outputs": [],
   "source": [
    "c = b.eval()"
   ]
  },
  {
   "cell_type": "code",
   "execution_count": 70,
   "metadata": {},
   "outputs": [],
   "source": [
    "tf_fft = c*rho.grid.dV"
   ]
  },
  {
   "cell_type": "code",
   "execution_count": 72,
   "metadata": {},
   "outputs": [],
   "source": [
    "np_fft=rho.fft()[:,:,:,0]"
   ]
  },
  {
   "cell_type": "code",
   "execution_count": 71,
   "metadata": {},
   "outputs": [
    {
     "data": {
      "text/plain": [
       "ReciprocalField([[[ 2.66999822e-05-1.94014629e-05j,\n",
       "                    7.74164924e-07+3.13568569e-05j,\n",
       "                   -2.26287464e-05-1.65379497e-05j, ...,\n",
       "                    1.95854917e-05-1.38652601e-05j,\n",
       "                   -2.17400008e-07+2.98893901e-05j,\n",
       "                   -3.16507618e-05-2.18201137e-05j],\n",
       "                  [-1.68113646e-05+1.85737434e-05j,\n",
       "                   -4.03784409e-06-2.16465567e-05j,\n",
       "                    1.64086585e-05+7.39411756e-06j, ...,\n",
       "                   -1.64514265e-05+1.78081895e-05j,\n",
       "                   -5.17291811e-06-2.84221700e-05j,\n",
       "                    2.98955710e-05+1.33541318e-05j],\n",
       "                  [-2.26540287e-06-3.88129212e-06j,\n",
       "                    4.75912622e-06-1.91656718e-06j,\n",
       "                    1.19635755e-06+5.34063836e-06j, ...,\n",
       "                    3.50332410e-06-8.29726869e-06j,\n",
       "                    4.93583821e-06+6.70573849e-06j,\n",
       "                   -6.39293033e-06+1.86476409e-06j],\n",
       "                  ...,\n",
       "                  [ 2.04030178e-05-7.51742012e-06j,\n",
       "                   -5.93092778e-06+1.86094813e-05j,\n",
       "                   -1.04506284e-05-1.23366253e-05j, ...,\n",
       "                    1.95762460e-05-8.42746039e-06j,\n",
       "                   -5.83384025e-06+2.53022195e-05j,\n",
       "                   -2.00565864e-05-2.23463608e-05j],\n",
       "                  [-3.93433293e-06+7.48737313e-06j,\n",
       "                   -4.93261653e-06-4.24894988e-06j,\n",
       "                    4.33979177e-06-3.96392483e-06j, ...,\n",
       "                   -9.92474029e-06+9.63356727e-06j,\n",
       "                   -2.26071185e-06-1.39237072e-05j,\n",
       "                    1.27461486e-05+5.25442729e-06j],\n",
       "                  [-2.53944335e-05+3.78069751e-08j,\n",
       "                    1.51136191e-05-2.28908749e-05j,\n",
       "                    9.13219663e-06+2.46074727e-05j, ...,\n",
       "                   -1.39261852e-05-1.29689980e-06j,\n",
       "                    1.02097755e-05-1.59771864e-05j,\n",
       "                    1.16977821e-05+2.45075796e-05j]],\n",
       "\n",
       "                 [[-6.11414693e-06+3.04195914e-05j,\n",
       "                   -2.12031009e-05-2.38315714e-05j,\n",
       "                    2.81950918e-05-3.16833537e-06j, ...,\n",
       "                   -5.25128886e-06+2.18724489e-05j,\n",
       "                   -2.10014212e-05-2.05847222e-05j,\n",
       "                    3.59534155e-05-6.17704461e-06j],\n",
       "                  [-4.46214004e-07-2.41681959e-05j,\n",
       "                    1.69596801e-05+1.15253080e-05j,\n",
       "                   -1.58092834e-05+6.46546217e-06j, ...,\n",
       "                   -2.21660665e-07-2.32193496e-05j,\n",
       "                    2.25928134e-05+1.65752192e-05j,\n",
       "                   -2.82688110e-05+1.02812433e-05j],\n",
       "                  [ 4.28604013e-06+8.32226653e-07j,\n",
       "                   -1.22409467e-06+4.64150403e-06j,\n",
       "                   -5.11060624e-06-3.02328132e-06j, ...,\n",
       "                    4.22435867e-06+7.69722884e-06j,\n",
       "                   -8.08748842e-06-7.14072266e-07j,\n",
       "                    2.79221574e-06-6.11570774e-06j],\n",
       "                  ...,\n",
       "                  [-8.99083122e-06+1.91702696e-05j,\n",
       "                   -8.55639693e-06-1.69373580e-05j,\n",
       "                    1.54051262e-05+2.23693648e-06j, ...,\n",
       "                   -8.97515220e-06+1.95758763e-05j,\n",
       "                   -1.34223184e-05-2.10693158e-05j,\n",
       "                    2.83249742e-05+1.59057245e-06j],\n",
       "                  [-2.56576549e-06-7.08427370e-06j,\n",
       "                    5.60005757e-06-9.50405015e-07j,\n",
       "                    8.72413208e-07+5.76386551e-06j, ...,\n",
       "                    5.34563622e-07-1.30995681e-05j,\n",
       "                    1.13509736e-05+7.91553542e-06j,\n",
       "                   -1.13651941e-05+4.99597933e-06j],\n",
       "                  [ 1.83675790e-05-1.76257798e-05j,\n",
       "                    4.53948969e-06+2.44432229e-05j,\n",
       "                   -2.41464827e-05-1.02647367e-05j, ...,\n",
       "                    1.11277842e-05-8.64400840e-06j,\n",
       "                    3.64459895e-06+1.94531945e-05j,\n",
       "                   -2.43244480e-05-8.67201136e-06j]],\n",
       "\n",
       "                 [[-1.63341920e-05-2.41354085e-05j,\n",
       "                    2.62340875e-05+6.70305998e-07j,\n",
       "                   -1.54285277e-05+1.93431919e-05j, ...,\n",
       "                   -1.08228145e-05-1.83787804e-05j,\n",
       "                    2.67994475e-05-6.37858837e-08j,\n",
       "                   -2.00453440e-05+2.72931228e-05j],\n",
       "                  [ 1.48713965e-05+1.40894298e-05j,\n",
       "                   -1.76539496e-05+2.58494628e-06j,\n",
       "                    5.46366643e-06-1.24477570e-05j, ...,\n",
       "                    1.52230685e-05+1.36262611e-05j,\n",
       "                   -2.36498605e-05+5.41972472e-06j,\n",
       "                    1.17883652e-05-2.43052312e-05j],\n",
       "                  [-3.58751484e-06+2.18032423e-06j,\n",
       "                   -2.15311164e-06-3.69934582e-06j,\n",
       "                    4.94953031e-06-1.28880213e-06j, ...,\n",
       "                   -8.44142108e-06-1.90475605e-06j,\n",
       "                    5.63571382e-06-5.85571405e-06j,\n",
       "                    2.72797545e-06+6.19984987e-06j],\n",
       "                  ...,\n",
       "                  [-5.32358632e-06-1.82600020e-05j,\n",
       "                    1.54348186e-05+5.00397097e-06j,\n",
       "                   -1.01316394e-05+8.04061071e-06j, ...,\n",
       "                   -6.10381969e-06-1.83752701e-05j,\n",
       "                    2.12797277e-05+6.43784896e-06j,\n",
       "                   -1.92646762e-05+1.58980673e-05j],\n",
       "                  [ 5.83533246e-06+2.19099070e-06j,\n",
       "                   -1.74482126e-06+4.47933177e-06j,\n",
       "                   -4.51331301e-06-2.05727513e-06j, ...,\n",
       "                    8.24487029e-06+8.03129941e-06j,\n",
       "                   -1.15204566e-05+2.59668984e-06j,\n",
       "                    3.77452473e-06-9.86154392e-06j],\n",
       "                  [-3.76587247e-08+2.16613183e-05j,\n",
       "                   -2.05360108e-05-1.37933001e-05j,\n",
       "                    2.12759735e-05-8.28370119e-06j, ...,\n",
       "                   -2.30363794e-06+1.34906309e-05j,\n",
       "                   -1.42516863e-05-1.05545097e-05j,\n",
       "                    2.07037479e-05-8.85273366e-06j]],\n",
       "\n",
       "                 ...,\n",
       "\n",
       "                 [[ 9.50949110e-06-2.58956647e-05j,\n",
       "                    1.58848912e-05+2.30568227e-05j,\n",
       "                   -2.57200228e-05+3.91723587e-09j, ...,\n",
       "                    4.63046543e-06-1.76769221e-05j,\n",
       "                    1.60816634e-05+1.91561509e-05j,\n",
       "                   -3.02703701e-05+2.88187142e-06j],\n",
       "                  [-3.05540638e-06+2.07227717e-05j,\n",
       "                   -1.39255303e-05-1.20009284e-05j,\n",
       "                    1.44453421e-05-4.04238387e-06j, ...,\n",
       "                   -3.66188840e-06+2.17939786e-05j,\n",
       "                   -1.80844952e-05-1.84861439e-05j,\n",
       "                    2.70289789e-05-5.44930223e-06j],\n",
       "                  [-2.29375933e-06-2.10199208e-06j,\n",
       "                    1.78687299e-06-3.40501799e-06j,\n",
       "                    3.15486141e-06+3.73405760e-06j, ...,\n",
       "                    9.61030424e-07-1.08156257e-05j,\n",
       "                    7.45628288e-06+5.57445657e-06j,\n",
       "                   -6.08084256e-06+2.92136937e-06j],\n",
       "                  ...,\n",
       "                  [ 1.05124104e-05-1.64935550e-05j,\n",
       "                    7.06601132e-06+1.56522418e-05j,\n",
       "                   -1.42751012e-05-2.55841350e-06j, ...,\n",
       "                    7.41034582e-06-1.65469797e-05j,\n",
       "                    1.12402244e-05+2.00228108e-05j,\n",
       "                   -2.44760443e-05-2.16500531e-06j],\n",
       "                  [ 1.52649419e-06+7.15622360e-06j,\n",
       "                   -6.38610692e-06+4.55874201e-07j,\n",
       "                    9.73507159e-07-6.84029990e-06j, ...,\n",
       "                   -3.07024762e-06+1.32612543e-05j,\n",
       "                   -9.35099022e-06-9.50921604e-06j,\n",
       "                    1.13224461e-05-3.35937776e-06j],\n",
       "                  [-1.58945984e-05+1.47332791e-05j,\n",
       "                   -2.05850646e-06-2.37767654e-05j,\n",
       "                    1.94653506e-05+1.18660351e-05j, ...,\n",
       "                   -5.91944480e-06+4.65688310e-06j,\n",
       "                   -3.20640253e-06-1.25313550e-05j,\n",
       "                    1.89379952e-05+6.17563390e-06j]],\n",
       "\n",
       "                 [[ 1.51072582e-05+3.17648030e-05j,\n",
       "                   -3.24431101e-05-4.40493922e-06j,\n",
       "                    2.10774016e-05-2.06786305e-05j, ...,\n",
       "                    1.18538673e-05+2.18280938e-05j,\n",
       "                   -3.06873168e-05-2.41547278e-06j,\n",
       "                    2.43267389e-05-3.02342098e-05j],\n",
       "                  [-1.51772385e-05-1.88002953e-05j,\n",
       "                    2.21342594e-05-1.39926524e-06j,\n",
       "                   -9.00647754e-06+1.57997185e-05j, ...,\n",
       "                   -1.62195199e-05-2.19814665e-05j,\n",
       "                    2.98590423e-05-1.01462340e-06j,\n",
       "                   -1.71981507e-05+2.85752520e-05j],\n",
       "                  [ 3.77897222e-06-1.11810709e-06j,\n",
       "                    2.10559468e-06+4.61633518e-06j,\n",
       "                   -6.51366641e-06+3.83542399e-07j, ...,\n",
       "                    7.84763965e-06+7.57119949e-06j,\n",
       "                   -9.16247530e-06+2.35529836e-06j,\n",
       "                    1.11620169e-06-6.71450594e-06j],\n",
       "                  ...,\n",
       "                  [ 5.22309462e-06+2.42324214e-05j,\n",
       "                   -1.96721582e-05-8.46871255e-06j,\n",
       "                    1.52030809e-05-9.67045322e-06j, ...,\n",
       "                    7.88305833e-06+2.16493123e-05j,\n",
       "                   -2.65092275e-05-7.31156815e-06j,\n",
       "                    2.38225881e-05-1.98931057e-05j],\n",
       "                  [-7.27927753e-06-4.92213789e-06j,\n",
       "                    5.05255659e-06-5.02265813e-06j,\n",
       "                    4.26480699e-06+5.69180127e-06j, ...,\n",
       "                   -9.11514448e-06-1.26959934e-05j,\n",
       "                    1.54399478e-05-2.60918633e-07j,\n",
       "                   -6.92148322e-06+1.27592518e-05j],\n",
       "                  [ 1.26663636e-06-2.64871959e-05j,\n",
       "                    2.18019456e-05+1.81063481e-05j,\n",
       "                   -2.65108834e-05+7.21645998e-06j, ...,\n",
       "                    9.16520280e-07-9.94820448e-06j,\n",
       "                    1.35698981e-05+8.75226902e-06j,\n",
       "                   -2.19454841e-05+1.05280756e-05j]],\n",
       "\n",
       "                 [[-3.75853994e-05-1.32534537e-05j,\n",
       "                    3.02313696e-05-2.14795106e-05j,\n",
       "                   -4.97423368e-07+3.29824883e-05j, ...,\n",
       "                   -2.76366494e-05-7.38794918e-06j,\n",
       "                    2.81950918e-05-2.35345455e-05j,\n",
       "                    4.42689640e-06+4.38587321e-05j],\n",
       "                  [ 2.93348337e-05+4.75117651e-06j,\n",
       "                   -1.76487278e-05+1.84471731e-05j,\n",
       "                   -5.17688848e-06-1.99300316e-05j, ...,\n",
       "                    3.01138855e-05+3.17171408e-06j,\n",
       "                   -2.22391340e-05+2.60003629e-05j,\n",
       "                   -9.05036932e-06-3.68409890e-05j],\n",
       "                  [-1.37367259e-06+4.28285540e-06j,\n",
       "                   -5.64314823e-06-1.83693315e-06j,\n",
       "                    4.67525334e-06-6.24660536e-06j, ...,\n",
       "                   -1.14651805e-05+9.74167464e-07j,\n",
       "                    4.09106403e-06-8.92291168e-06j,\n",
       "                    4.76559255e-06+4.80235518e-06j],\n",
       "                  ...,\n",
       "                  [-2.34263849e-05-1.52287852e-05j,\n",
       "                    2.37256066e-05-8.94707901e-06j,\n",
       "                   -4.69991996e-06+1.99432032e-05j, ...,\n",
       "                   -2.45062549e-05-1.15387912e-05j,\n",
       "                    2.71613087e-05-1.58955966e-05j,\n",
       "                   -2.96236816e-06+3.44700190e-05j],\n",
       "                  [ 9.53124887e-06-1.30906381e-06j,\n",
       "                   -1.88016497e-07+7.30780063e-06j,\n",
       "                   -6.89539553e-06-5.37625274e-07j, ...,\n",
       "                    1.72176603e-05+2.42395090e-06j,\n",
       "                   -1.17863265e-05+1.29176523e-05j,\n",
       "                   -4.38314085e-06-1.58471773e-05j],\n",
       "                  [ 2.10114581e-05+2.22608473e-05j,\n",
       "                   -3.20835083e-05+3.54703430e-06j,\n",
       "                    1.54402561e-05-2.89729853e-05j, ...,\n",
       "                    9.26771430e-06+1.06525168e-05j,\n",
       "                   -2.01008178e-05+4.50179247e-06j,\n",
       "                    9.44949484e-06-2.67840971e-05j]]])"
      ]
     },
     "execution_count": 71,
     "metadata": {},
     "output_type": "execute_result"
    }
   ],
   "source": [
    "tf_fft-np_fft"
   ]
  },
  {
   "cell_type": "code",
   "execution_count": 63,
   "metadata": {},
   "outputs": [
    {
     "data": {
      "text/plain": [
       "ReciprocalField([[[ 16.         +0.j        ,  -9.13573247+12.12024128j,\n",
       "                    -3.68974449-12.50541464j, ...,\n",
       "                     9.73451754 -3.3968763j ,  -3.68974449+12.50541464j,\n",
       "                    -9.13573247-12.12024128j],\n",
       "                  [ -9.97869527 +0.23907033j,   4.72522376 -6.67383413j,\n",
       "                     1.94247512 +5.63743424j, ...,\n",
       "                    -8.5174377  +3.34173329j,   2.66006677-10.09006233j,\n",
       "                     6.70625034 +8.46468734j],\n",
       "                  [ -2.03532946 +0.28394292j,   1.84865201 -2.8935182j ,\n",
       "                     1.3686074  +3.96591201j, ...,\n",
       "                     1.80725284 -0.68561684j,  -0.392803   +0.9652361j ,\n",
       "                     0.41718884 +0.17498086j],\n",
       "                  ...,\n",
       "                  [  9.30599366 +1.07043052j,  -5.74341372 +5.93245267j,\n",
       "                    -1.00145785 -6.46348149j, ...,\n",
       "                     7.34317825 -1.75952474j,  -3.37163723 +8.18689677j,\n",
       "                    -4.89767167 -8.21113068j],\n",
       "                  [ -2.03532946 -0.28394292j,   0.41718884 -0.17498086j,\n",
       "                    -0.392803   -0.9652361j , ...,\n",
       "                    -4.06365403 +1.31235661j,   1.3686074  -3.96591201j,\n",
       "                     1.84865201 +2.8935182j ],\n",
       "                  [ -9.97869527 -0.23907033j,   6.70625034 -8.46468734j,\n",
       "                     2.66006677+10.09006233j, ...,\n",
       "                    -3.79508557 +1.01961885j,   1.94247512 -5.63743424j,\n",
       "                     4.72522376 +6.67383413j]],\n",
       "\n",
       "                 [[-11.01949653+10.56802378j,  -1.70756759-14.34363271j,\n",
       "                    10.72929138 +6.15825207j, ...,\n",
       "                    -4.63316154 +8.90994174j,  -5.72920893-11.19439355j,\n",
       "                    14.352176   +2.34355066j],\n",
       "                  [  6.52711722 -6.66644588j,   1.09885451 +7.48323051j,\n",
       "                    -4.76259653 -2.54835871j, ...,\n",
       "                     3.44552944 -7.95464959j,   4.95426494 +8.51521933j,\n",
       "                   -10.07913338 -1.22996214j],\n",
       "                  [  1.44737244 -1.59198999j,   0.6304268  +3.43096007j,\n",
       "                    -3.77744354 -1.91684123j, ...,\n",
       "                    -0.38831734 +1.59834783j,  -0.52845367 -0.58615041j,\n",
       "                    -0.57418524 -0.0976677j ],\n",
       "                  ...,\n",
       "                  [ -7.11286218 +5.31790581j,   0.12593487 -7.78177618j,\n",
       "                     4.77799592 +3.80142632j, ...,\n",
       "                    -4.03062877 +6.08030412j,  -3.01707928 -7.93053332j,\n",
       "                     8.76356058 +2.48561962j],\n",
       "                  [  1.46064502 -0.86554242j,  -0.4128949  +0.08980722j,\n",
       "                     1.36733182 +0.36331748j, ...,\n",
       "                     1.79148215 -3.45713378j,   1.60972366 +3.42647834j,\n",
       "                    -2.93195184 -0.75906305j],\n",
       "                  [  7.18237947 -6.63515093j,   1.13520252+10.49861562j,\n",
       "                    -8.81735867 -5.16664051j, ...,\n",
       "                     2.27551206 -3.40650004j,   2.3862962  +5.50479374j,\n",
       "                    -7.92045211 -1.57901982j]],\n",
       "\n",
       "                 [[  0.4572236 -13.33124799j,   9.80720948 +7.91581802j,\n",
       "                   -10.4524544  +2.69123384j, ...,\n",
       "                    -2.47839227 -8.66656087j,  10.52744951 +3.64641792j,\n",
       "                   -10.48469923 +7.28509033j],\n",
       "                  [  0.05320745 +8.05179141j,  -5.12356852 -3.91057392j,\n",
       "                     4.33169772 -1.20104296j, ...,\n",
       "                     2.89613346 +7.11945697j,  -8.38509293 -2.15479224j,\n",
       "                     6.95292391 -5.46719076j],\n",
       "                  [ -0.04772317 +1.96161791j,  -2.5782392  -1.87096893j,\n",
       "                     3.72114402 -1.18012144j, ...,\n",
       "                    -1.02499106 -1.08776713j,   0.73118278 -0.24141738j,\n",
       "                     0.58363385 -0.1538145j ],\n",
       "                  ...,\n",
       "                  [  1.28419109 -7.61237178j,   4.54223186 +4.94487548j,\n",
       "                    -5.18834388 +0.41723896j, ...,\n",
       "                    -1.07689152 -6.42228292j,   6.74457139 +3.25935149j,\n",
       "                    -7.05653124 +3.71326192j],\n",
       "                  [ -0.45530006 +1.11587973j,   0.59649064 -0.18090452j,\n",
       "                    -1.46805884 +0.90270874j, ...,\n",
       "                     1.02194391 +3.12758763j,  -2.94641368 -1.06233392j,\n",
       "                     2.10247497 -1.16775659j],\n",
       "                  [ -0.44589829 +8.77750615j,  -7.39453408 -5.9848781j ,\n",
       "                     8.96361894 -2.36000997j, ...,\n",
       "                     0.49413497 +3.84584556j,  -5.02645212 -2.25028008j,\n",
       "                     6.1674488  -3.89967248j]],\n",
       "\n",
       "                 ...,\n",
       "\n",
       "                 [[  7.39312365 -7.89562354j,   1.87347159+10.22987635j,\n",
       "                    -8.2791014  -3.92248059j, ...,\n",
       "                     2.79099645 -6.28654047j,   4.41660513 +7.57112638j,\n",
       "                   -10.15548445 -1.12455525j],\n",
       "                  [ -4.90501146 +5.43462779j,  -1.42667737 -5.9147071j ,\n",
       "                     4.3967546  +1.49384045j, ...,\n",
       "                    -2.9378151  +6.40332618j,  -3.87226919 -6.83015691j,\n",
       "                     7.92222038 +0.89949086j],\n",
       "                  [ -0.16268793 +0.70496j   ,  -0.47243899 -1.67543297j,\n",
       "                     2.15447516 +1.08092721j, ...,\n",
       "                     1.38315379 -2.13354722j,   0.47084179 +1.79734102j,\n",
       "                    -0.60278523 -0.55655068j],\n",
       "                  ...,\n",
       "                  [  5.00970075 -4.29337044j,   0.40957468 +5.83607825j,\n",
       "                    -4.02708676 -2.45310694j, ...,\n",
       "                     2.60634349 -4.62441602j,   2.59166619 +5.68469954j,\n",
       "                    -6.58077844 -1.44123552j],\n",
       "                  [ -1.03000889 +1.18487644j,  -0.3864155  -0.32279522j,\n",
       "                    -0.26654418 -0.80688043j, ...,\n",
       "                    -1.57894948 +3.09530816j,  -1.49710066 -2.95470193j,\n",
       "                     2.60745156 +0.40947994j],\n",
       "                  [ -4.69252237 +4.52833657j,  -0.74874595 -7.20585162j,\n",
       "                     6.10697946 +3.76193004j, ...,\n",
       "                    -0.80519716 +1.79407405j,  -1.72404875 -3.03594981j,\n",
       "                     5.09552302 +0.71226945j]],\n",
       "\n",
       "                 [[  0.4572236 +13.33124799j, -10.48469923 -7.28509033j,\n",
       "                    10.52744951 -3.64641792j, ...,\n",
       "                     3.09603388 +7.88407718j, -10.4524544  -2.69123384j,\n",
       "                     9.80720948 -7.91581802j],\n",
       "                  [ -0.44589829 -8.77750615j,   6.1674488  +3.89967248j,\n",
       "                    -5.02645212 +2.25028008j, ...,\n",
       "                    -2.96186089 -7.66531797j,   8.96361894 +2.36000997j,\n",
       "                    -7.39453408 +5.9848781j ],\n",
       "                  [ -0.45530006 -1.11587973j,   2.10247497 +1.16775659j,\n",
       "                    -2.94641368 +1.06233392j, ...,\n",
       "                     0.52855196 +2.44424802j,  -1.46805884 -0.90270874j,\n",
       "                     0.59649064 +0.18090452j],\n",
       "                  ...,\n",
       "                  [ -0.58956824 +7.99283179j,  -5.35302961 -4.68013966j,\n",
       "                     5.5710054  -1.26842712j, ...,\n",
       "                     1.76190065 +6.1515563j ,  -7.08365984 -2.59324416j,\n",
       "                     6.84498217 -4.44376148j],\n",
       "                  [ -0.04772317 -1.96161791j,   0.58363385 +0.1538145j ,\n",
       "                     0.73118278 +0.24141738j, ...,\n",
       "                    -1.28288836 -3.80757993j,   3.72114402 +1.18012144j,\n",
       "                    -2.5782392  +1.87096893j],\n",
       "                  [  0.05320745 -8.05179141j,   6.95292391 +5.46719076j,\n",
       "                    -8.38509293 +2.15479224j, ...,\n",
       "                    -0.94226553 -2.53121359j,   4.33169772 +1.20104296j,\n",
       "                    -5.12356852 +3.91057392j]],\n",
       "\n",
       "                 [[-11.01949653-10.56802378j,  14.352176   -2.34355066j,\n",
       "                    -5.72920893+11.19439355j, ...,\n",
       "                    -8.86472609 -4.00585914j,  10.72929138 -6.15825207j,\n",
       "                    -1.70756759+14.34363271j],\n",
       "                  [  7.18237947 +6.63515093j,  -7.92045211 +1.57901982j,\n",
       "                     2.3862962  -5.50479374j, ...,\n",
       "                     8.23255961 +3.60042446j,  -8.81735867 +5.16664051j,\n",
       "                     1.13520252-10.49861562j],\n",
       "                  [  1.46064502 +0.86554242j,  -2.93195184 +0.75906305j,\n",
       "                     1.60972366 -3.42647834j, ...,\n",
       "                    -1.95506773 -1.14647855j,   1.36733182 -0.36331748j,\n",
       "                    -0.4128949  -0.08980722j],\n",
       "                  ...,\n",
       "                  [ -5.7998876  -6.93269876j,   7.99272692 -0.37109121j,\n",
       "                    -3.56755311 +5.30081662j, ...,\n",
       "                    -6.25926333 -3.59507051j,   7.75887062 -3.47360285j,\n",
       "                    -2.03313627 +8.97545038j],\n",
       "                  [  1.44737244 +1.59198999j,  -0.57418524 +0.0976677j ,\n",
       "                    -0.52845367 +0.58615041j, ...,\n",
       "                     3.85785694 +1.93032201j,  -3.77744354 +1.91684123j,\n",
       "                     0.6304268  -3.43096007j],\n",
       "                  [  6.52711722 +6.66644588j, -10.07913338 +1.22996214j,\n",
       "                     4.95426494 -8.51521933j, ...,\n",
       "                     3.05001095 +1.53691001j,  -4.76259653 +2.54835871j,\n",
       "                     1.09885451 -7.48323051j]]])"
      ]
     },
     "execution_count": 63,
     "metadata": {},
     "output_type": "execute_result"
    }
   ],
   "source": [
    "np_fft"
   ]
  },
  {
   "cell_type": "code",
   "execution_count": 90,
   "metadata": {},
   "outputs": [],
   "source": [
    "rho_interp = rho.get_3dinterpolation([90,90,90])"
   ]
  },
  {
   "cell_type": "code",
   "execution_count": 91,
   "metadata": {},
   "outputs": [
    {
     "data": {
      "text/plain": [
       "(90, 90, 90)"
      ]
     },
     "execution_count": 91,
     "metadata": {},
     "output_type": "execute_result"
    }
   ],
   "source": [
    "rho_interp.shape"
   ]
  },
  {
   "cell_type": "code",
   "execution_count": 92,
   "metadata": {},
   "outputs": [
    {
     "data": {
      "text/plain": [
       "15.999915251442873"
      ]
     },
     "execution_count": 92,
     "metadata": {},
     "output_type": "execute_result"
    }
   ],
   "source": [
    "rho_interp.integral()"
   ]
  },
  {
   "cell_type": "code",
   "execution_count": 9,
   "metadata": {
    "collapsed": true
   },
   "outputs": [],
   "source": [
    "o_pos = water_dimer.ions[0].pos\n",
    "h1_pos = water_dimer.ions[1].pos\n",
    "h2_pos = water_dimer.ions[2].pos"
   ]
  },
  {
   "cell_type": "code",
   "execution_count": 10,
   "metadata": {},
   "outputs": [],
   "source": [
    "o_h1_vec = o_pos.d_mic(h1_pos)\n",
    "o_h2_vec = o_pos.d_mic(h2_pos)"
   ]
  },
  {
   "cell_type": "code",
   "execution_count": 107,
   "metadata": {},
   "outputs": [
    {
     "data": {
      "text/plain": [
       "(Coord([ 0.78612607, -0.87683293, -3.51489061]),\n",
       " Coord([ 0.0208, -0.0232, -0.093 ]))"
      ]
     },
     "execution_count": 107,
     "metadata": {},
     "output_type": "execute_result"
    }
   ],
   "source": [
    "o_h1_vec*2, o_h1_vec.to_crys()"
   ]
  },
  {
   "cell_type": "code",
   "execution_count": 11,
   "metadata": {},
   "outputs": [],
   "source": [
    "from pbcpy.base import Coord\n",
    "r0 = Coord([1,0,0],cell=rho.grid,basis=\"S\")\n",
    "r1 = Coord([0,1,0],cell=rho.grid,basis=\"S\")\n",
    "r2 = Coord([0,0,1],cell=rho.grid,basis=\"S\")\n",
    "rho_cut = rho.get_cut(r0=r0, r1=r1, r2=r2, center=o_pos, nr=[125,125,125])"
   ]
  },
  {
   "cell_type": "code",
   "execution_count": 12,
   "metadata": {},
   "outputs": [],
   "source": [
    "rho_cut = rho.get_cut(r0=o_h1_vec*4, r1=o_h2_vec*4, center=o_pos, nr=[100,100])"
   ]
  },
  {
   "cell_type": "code",
   "execution_count": 13,
   "metadata": {},
   "outputs": [
    {
     "data": {
      "text/plain": [
       "(53.591672462796531, 0.0053591672462796527)"
      ]
     },
     "execution_count": 13,
     "metadata": {},
     "output_type": "execute_result"
    }
   ],
   "source": [
    "rho_cut.grid.volume,rho_cut.grid.dV"
   ]
  },
  {
   "cell_type": "code",
   "execution_count": 37,
   "metadata": {},
   "outputs": [
    {
     "data": {
      "text/plain": [
       "(6748.3345843151264, 0.0034551473071693446)"
      ]
     },
     "execution_count": 37,
     "metadata": {},
     "output_type": "execute_result"
    }
   ],
   "source": [
    "rho.grid.volume,rho.grid.dV"
   ]
  },
  {
   "cell_type": "code",
   "execution_count": 14,
   "metadata": {
    "collapsed": true
   },
   "outputs": [],
   "source": [
    "from matplotlib import pyplot as plt\n",
    "%matplotlib inline"
   ]
  },
  {
   "cell_type": "code",
   "execution_count": 15,
   "metadata": {},
   "outputs": [
    {
     "data": {
      "text/plain": [
       "<matplotlib.image.AxesImage at 0x7f222adfeeb8>"
      ]
     },
     "execution_count": 15,
     "metadata": {},
     "output_type": "execute_result"
    },
    {
     "data": {
      "image/png": "[encoded data removed]",
      "text/plain": [
       "<matplotlib.figure.Figure at 0x7f21ff211f60>"
      ]
     },
     "metadata": {},
     "output_type": "display_data"
    }
   ],
   "source": [
    "plt.imshow(rho_cut)"
   ]
  },
  {
   "cell_type": "code",
   "execution_count": 61,
   "metadata": {},
   "outputs": [
    {
     "data": {
      "text/plain": [
       "0.0034551473071693446"
      ]
     },
     "execution_count": 61,
     "metadata": {},
     "output_type": "execute_result"
    }
   ],
   "source": [
    "rho_cut.grid.dV"
   ]
  },
  {
   "cell_type": "code",
   "execution_count": 64,
   "metadata": {},
   "outputs": [
    {
     "data": {
      "text/plain": [
       "(100, 100)"
      ]
     },
     "execution_count": 64,
     "metadata": {},
     "output_type": "execute_result"
    }
   ],
   "source": [
    "rho_cut.shape"
   ]
  },
  {
   "cell_type": "code",
   "execution_count": 65,
   "metadata": {},
   "outputs": [
    {
     "data": {
      "text/plain": [
       "2"
      ]
     },
     "execution_count": 65,
     "metadata": {},
     "output_type": "execute_result"
    }
   ],
   "source": [
    "rho_cut.span"
   ]
  },
  {
   "cell_type": "code",
   "execution_count": 66,
   "metadata": {},
   "outputs": [
    {
     "data": {
      "text/plain": [
       "array([[ 1.57225214, -6.68207161, -0.43149218],\n",
       "       [-1.75366585, -3.04623853,  0.8479004 ],\n",
       "       [-7.02978121,  0.97509868, -0.30802502]])"
      ]
     },
     "execution_count": 66,
     "metadata": {},
     "output_type": "execute_result"
    }
   ],
   "source": [
    "rho_cut.grid.lattice"
   ]
  },
  {
   "cell_type": "code",
   "execution_count": 67,
   "metadata": {
    "collapsed": true
   },
   "outputs": [],
   "source": [
    "rho_g = rho.fft()"
   ]
  },
  {
   "cell_type": "code",
   "execution_count": 68,
   "metadata": {},
   "outputs": [
    {
     "data": {
      "text/plain": [
       "pbcpy.field.ReciprocalScalarField"
      ]
     },
     "execution_count": 68,
     "metadata": {},
     "output_type": "execute_result"
    }
   ],
   "source": [
    "type(rho_g)"
   ]
  },
  {
   "cell_type": "code",
   "execution_count": 69,
   "metadata": {
    "collapsed": true
   },
   "outputs": [],
   "source": [
    "rho1 = rho_g.ifft()"
   ]
  },
  {
   "cell_type": "code",
   "execution_count": 70,
   "metadata": {},
   "outputs": [
    {
     "data": {
      "text/plain": [
       "pbcpy.field.DirectScalarField"
      ]
     },
     "execution_count": 70,
     "metadata": {},
     "output_type": "execute_result"
    }
   ],
   "source": [
    "type(rho1)"
   ]
  },
  {
   "cell_type": "code",
   "execution_count": 71,
   "metadata": {},
   "outputs": [
    {
     "data": {
      "text/plain": [
       "True"
      ]
     },
     "execution_count": 71,
     "metadata": {},
     "output_type": "execute_result"
    }
   ],
   "source": [
    "rho1.grid == rho.grid"
   ]
  },
  {
   "cell_type": "code",
   "execution_count": 84,
   "metadata": {},
   "outputs": [
    {
     "data": {
      "text/plain": [
       "True"
      ]
     },
     "execution_count": 84,
     "metadata": {},
     "output_type": "execute_result"
    }
   ],
   "source": [
    "np.isclose(np.array(rho1), np.array(rho)).all()"
   ]
  },
  {
   "cell_type": "code",
   "execution_count": 78,
   "metadata": {},
   "outputs": [
    {
     "ename": "AssertionError",
     "evalue": "",
     "output_type": "error",
     "traceback": [
      "\u001b[0;31m---------------------------------------------------------------------------\u001b[0m",
      "\u001b[0;31mAssertionError\u001b[0m                            Traceback (most recent call last)",
      "\u001b[0;32m<ipython-input-78-fa3f6d411be7>\u001b[0m in \u001b[0;36m<module>\u001b[0;34m()\u001b[0m\n\u001b[0;32m----> 1\u001b[0;31m \u001b[0;32massert\u001b[0m\u001b[0;34m(\u001b[0m\u001b[0;32mFalse\u001b[0m\u001b[0;34m)\u001b[0m\u001b[0;34m\u001b[0m\u001b[0m\n\u001b[0m",
      "\u001b[0;31mAssertionError\u001b[0m: "
     ]
    }
   ],
   "source": [
    "assert(False)"
   ]
  },
  {
   "cell_type": "code",
   "execution_count": 16,
   "metadata": {
    "collapsed": true
   },
   "outputs": [],
   "source": [
    "from pbcpy.formats.xsf import XSF"
   ]
  },
  {
   "cell_type": "code",
   "execution_count": 17,
   "metadata": {},
   "outputs": [],
   "source": [
    "XSF(\"test.xsf\").write(water_dimer,field=rho_cut)"
   ]
  },
  {
   "cell_type": "code",
   "execution_count": null,
   "metadata": {
    "collapsed": true
   },
   "outputs": [],
   "source": []
  }
 ],
 "metadata": {
  "kernelspec": {
   "display_name": "Python 3",
   "language": "python",
   "name": "python3"
  },
  "language_info": {
   "codemirror_mode": {
    "name": "ipython",
    "version": 3
   },
   "file_extension": ".py",
   "mimetype": "text/x-python",
   "name": "python",
   "nbconvert_exporter": "python",
   "pygments_lexer": "ipython3",
   "version": "3.6.8"
  }
 },
 "nbformat": 4,
 "nbformat_minor": 2
}
