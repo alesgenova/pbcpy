{
 "cells": [
  {
   "cell_type": "code",
   "execution_count": 135,
   "metadata": {
    "collapsed": true
   },
   "outputs": [],
   "source": [
    "import numpy as np\n",
    "from scipy.interpolate import interp1d"
   ]
  },
  {
   "cell_type": "code",
   "execution_count": 136,
   "metadata": {},
   "outputs": [],
   "source": [
    "def PP_load(outfile):\n",
    "    '''Reads CASTEP-like recpot PP file\n",
    "    Returns tuple (g, v)'''\n",
    "    HARTREE2EV = 27.2113845\n",
    "    BOHR2ANG   = 0.529177211\n",
    "    with open(outfile,'r') as outfil:\n",
    "        lines = outfil.readlines()\n",
    "        \n",
    "    for i in range(0,len(lines)):\n",
    "        line = lines[i]\n",
    "        if 'END COMMENT' in line:\n",
    "            ibegin = i+3\n",
    "        if '  1000' in line:\n",
    "            iend = i\n",
    "    line = \" \".join([line.strip() for line in lines[ibegin:iend]])\n",
    "    \n",
    "    if '1000' in lines[iend]:\n",
    "        print('Recpot pseudopotential ' +outfile+ ' loaded')\n",
    "    else:\n",
    "        return Exception\n",
    "    gmax = np.float(lines[ibegin-1].strip())*BOHR2ANG\n",
    "    g = np.linspace(0,gmax,num=npoints)\n",
    "    v = np.array(line.split()).astype(np.float)/HARTREE2EV/BOHR2ANG**3\n",
    "    return g, v\n",
    "    "
   ]
  },
  {
   "cell_type": "code",
   "execution_count": 137,
   "metadata": {},
   "outputs": [
    {
     "name": "stdout",
     "output_type": "stream",
     "text": [
      "Recpot pseudopotential ./Al_lda.oe01.recpot loaded\n"
     ]
    }
   ],
   "source": [
    "g_PP, v_PP = PP_load('./Al_lda.oe01.recpot')"
   ]
  },
  {
   "cell_type": "code",
   "execution_count": 138,
   "metadata": {},
   "outputs": [],
   "source": [
    "def PP_interpolation(g_PP,v_PP,order=None):\n",
    "    '''Interpolates recpot PP\n",
    "    Returns interpolation function\n",
    "    Linear interpolation is the default. \n",
    "    However, it can use 2nd and 3rd order interpolation\n",
    "    by specifying order=n, n=1-3 in argument list.'''\n",
    "    if order is None:\n",
    "        order = 1\n",
    "    v = interp1d(g_PP,v_PP,kind=order)\n",
    "    return v"
   ]
  },
  {
   "cell_type": "code",
   "execution_count": 139,
   "metadata": {},
   "outputs": [],
   "source": [
    "v = PP_interpolation(g_PP=g_PP,v_PP=v_PP)"
   ]
  },
  {
   "cell_type": "code",
   "execution_count": 140,
   "metadata": {
    "collapsed": true
   },
   "outputs": [],
   "source": [
    "import matplotlib.pyplot as plt"
   ]
  },
  {
   "cell_type": "code",
   "execution_count": 141,
   "metadata": {},
   "outputs": [
    {
     "data": {
      "image/png": "[encoded data removed]",
      "text/plain": [
       "<matplotlib.figure.Figure at 0x10db496a0>"
      ]
     },
     "metadata": {},
     "output_type": "display_data"
    }
   ],
   "source": [
    "plt.plot(g_PP,(np.abs(v_PP)),linewidth=4,color='black')\n",
    "plt.scatter(x,(np.abs(v(x))))\n",
    "plt.xlim(-0.001,0.05)\n",
    "plt.show()"
   ]
  },
  {
   "cell_type": "code",
   "execution_count": null,
   "metadata": {
    "collapsed": true
   },
   "outputs": [],
   "source": []
  }
 ],
 "metadata": {
  "kernelspec": {
   "display_name": "Python 3",
   "language": "python",
   "name": "python3"
  },
  "language_info": {
   "codemirror_mode": {
    "name": "ipython",
    "version": 3
   },
   "file_extension": ".py",
   "mimetype": "text/x-python",
   "name": "python",
   "nbconvert_exporter": "python",
   "pygments_lexer": "ipython3",
   "version": "3.6.3"
  }
 },
 "nbformat": 4,
 "nbformat_minor": 2
}
