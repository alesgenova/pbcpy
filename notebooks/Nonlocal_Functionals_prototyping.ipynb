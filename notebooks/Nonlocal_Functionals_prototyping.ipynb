{
 "cells": [
  {
   "cell_type": "code",
   "execution_count": 1,
   "metadata": {
    "collapsed": true
   },
   "outputs": [],
   "source": [
    "import numpy as np\n",
    "import scipy.special as sp\n",
    "import matplotlib.pyplot as plt"
   ]
  },
  {
   "cell_type": "code",
   "execution_count": 2,
   "metadata": {
    "collapsed": true
   },
   "outputs": [],
   "source": [
    "from pbcpy.base import Cell\n",
    "from pbcpy.grid import Grid\n",
    "#"
   ]
  },
  {
   "cell_type": "code",
   "execution_count": 3,
   "metadata": {
    "collapsed": true
   },
   "outputs": [],
   "source": [
    "from pbcpy.grid_functions import Grid_Function_Base, Grid_Function, Grid_Function_Reciprocal, Grid_Space"
   ]
  },
  {
   "cell_type": "code",
   "execution_count": 4,
   "metadata": {
    "collapsed": true
   },
   "outputs": [],
   "source": [
    "from pbcpy.functionals import Functional"
   ]
  },
  {
   "cell_type": "code",
   "execution_count": 5,
   "metadata": {
    "collapsed": true
   },
   "outputs": [],
   "source": [
    "from pbcpy.nonlocal_functionals_utils import LindhardFunction, MGP_kernel, WT_kernel"
   ]
  },
  {
   "cell_type": "code",
   "execution_count": 6,
   "metadata": {
    "collapsed": true
   },
   "outputs": [],
   "source": [
    "from pbcpy.local_functionals_utils import ThomasFermiEnergy, ThomasFermiPotential\n",
    "from pbcpy.local_functionals_utils import vonWeizsackerEnergy, vonWeizsackerPotential"
   ]
  },
  {
   "cell_type": "code",
   "execution_count": 7,
   "metadata": {},
   "outputs": [],
   "source": [
    "from pbcpy.formats.qepp import PP\n",
    "from pbcpy.formats.xsf import XSF"
   ]
  },
  {
   "cell_type": "code",
   "execution_count": 8,
   "metadata": {},
   "outputs": [],
   "source": [
    "mol = PP(filepp='Al_fde_rho.pp').read()"
   ]
  },
  {
   "cell_type": "code",
   "execution_count": 9,
   "metadata": {
    "collapsed": true
   },
   "outputs": [],
   "source": [
    "density = mol.plot"
   ]
  },
  {
   "cell_type": "code",
   "execution_count": 10,
   "metadata": {
    "collapsed": true
   },
   "outputs": [],
   "source": [
    "grid_real             = Grid_Space(density.grid.at,density.grid.nr)\n",
    "dens_real_space       = Grid_Function(grid_real,griddata_3d=density.values)"
   ]
  },
  {
   "cell_type": "markdown",
   "metadata": {},
   "source": [
    "# Local and Semilocal Functionals energy and potential"
   ]
  },
  {
   "cell_type": "code",
   "execution_count": 11,
   "metadata": {
    "collapsed": true
   },
   "outputs": [],
   "source": [
    "ThomasFermi = Functional(energydensity=ThomasFermiEnergy(dens_real_space),\n",
    "                         potential=ThomasFermiPotential(dens_real_space))"
   ]
  },
  {
   "cell_type": "code",
   "execution_count": 12,
   "metadata": {
    "collapsed": true
   },
   "outputs": [],
   "source": [
    "vonWeizsacker = Functional(energydensity=vonWeizsackerEnergy(dens_real_space,SmoothingFactor=0.05),\n",
    "                           potential=vonWeizsackerPotential(dens_real_space,SmoothingFactor=0.05))"
   ]
  },
  {
   "cell_type": "code",
   "execution_count": 13,
   "metadata": {
    "collapsed": true
   },
   "outputs": [],
   "source": [
    "GEA2 = Functional(energydensity=ThomasFermiEnergy(dens_real_space).sum(\n",
    "                      vonWeizsackerEnergy(dens_real_space).dot(g=1.0/9.0)),\n",
    "                  potential=ThomasFermiPotential(dens_real_space).sum(\n",
    "                      vonWeizsackerPotential(dens_real_space).dot(g=1.0/9.0)))"
   ]
  },
  {
   "cell_type": "code",
   "execution_count": 14,
   "metadata": {
    "collapsed": true
   },
   "outputs": [],
   "source": [
    "TFvW = Functional(energydensity=ThomasFermiEnergy(dens_real_space).sum(\n",
    "                      vonWeizsackerEnergy(dens_real_space)),\n",
    "                  potential=ThomasFermiPotential(dens_real_space).sum(\n",
    "                      vonWeizsackerPotential(dens_real_space)))"
   ]
  },
  {
   "cell_type": "markdown",
   "metadata": {},
   "source": [
    "# Nonlocal Functionals energy and potential"
   ]
  },
  {
   "cell_type": "code",
   "execution_count": 15,
   "metadata": {},
   "outputs": [
    {
     "data": {
      "text/plain": [
       "0.026847694907688513"
      ]
     },
     "execution_count": 15,
     "metadata": {},
     "output_type": "execute_result"
    }
   ],
   "source": [
    "dens_real_space.integral()/mol.cell.omega"
   ]
  },
  {
   "cell_type": "code",
   "execution_count": 16,
   "metadata": {},
   "outputs": [
    {
     "data": {
      "image/png": "[encoded data removed]",
      "text/plain": [
       "<matplotlib.figure.Figure at 0x10f466518>"
      ]
     },
     "metadata": {},
     "output_type": "display_data"
    }
   ],
   "source": [
    "#\n",
    "# Cute-looking kernels\n",
    "#\n",
    "q=np.linspace(0.1,8,1000)\n",
    "gmpker = MGP_kernel(q,dens_real_space.integral()/mol.cell.omega,0.3,500)\n",
    "wtker = WT_kernel(q,dens_real_space.integral()/mol.cell.omega)\n",
    "eta = q/(2.0 * (3.0 * dens_real_space.integral()/mol.cell.omega * np.pi**2)**(1.0/3.0))\n",
    "plt.plot(eta,wtker,color='blue',label='WT')\n",
    "plt.plot(eta,gmpker,label='MGP',color='black',linestyle='--')\n",
    "plt.xlim(0,4)\n",
    "plt.ylim(-8,2)\n",
    "plt.legend()\n",
    "plt.savefig(\"./kernels_comparison.pdf\")\n",
    "plt.show()"
   ]
  },
  {
   "cell_type": "code",
   "execution_count": 17,
   "metadata": {
    "collapsed": true
   },
   "outputs": [],
   "source": [
    "rho0=dens_real_space.integral()/mol.cell.omega\n",
    "q = grid_real.reciprocal_grid.dist_values()"
   ]
  },
  {
   "cell_type": "code",
   "execution_count": 18,
   "metadata": {
    "collapsed": true
   },
   "outputs": [],
   "source": [
    "wtker = WT_kernel(q,rho0)"
   ]
  },
  {
   "cell_type": "code",
   "execution_count": 19,
   "metadata": {
    "collapsed": true
   },
   "outputs": [],
   "source": [
    "WTdens = dens_real_space.energy_density(kernel=wtker,a=(5.0/6.0),b=(5.0/6.0),c=1.0)\n",
    "WTpot = dens_real_space.energy_potential(kernel=wtker,a=(5.0/6.0),c=1.0)\n",
    "WTpotential = Grid_Function(dens_real_space.grid_space,griddata_3d=(5.0/6.0)*2.0*WTpot.values*dens_real_space.values**(5.0/6.0-1.0))"
   ]
  },
  {
   "cell_type": "code",
   "execution_count": 20,
   "metadata": {
    "collapsed": true
   },
   "outputs": [],
   "source": [
    "WT_Functional = Functional( \n",
    "    energydensity=WTdens.sum(vonWeizsacker.energydensity.sum(ThomasFermi.energydensity)), \\\n",
    "    potential=WTpotential.sum(vonWeizsacker.potential.sum(ThomasFermi.potential)),kernel=wtker)"
   ]
  },
  {
   "cell_type": "code",
   "execution_count": 21,
   "metadata": {
    "collapsed": true
   },
   "outputs": [],
   "source": [
    "#MGPker = MGP_kernel(q,rho0,0.03,400)\n",
    "MGPker = wtker"
   ]
  },
  {
   "cell_type": "code",
   "execution_count": 22,
   "metadata": {
    "collapsed": true
   },
   "outputs": [],
   "source": [
    "MGPdens = dens_real_space.energy_density(kernel=MGPker,a=(5.0/6.0),b=(5.0/6.0),c=1.0)\n",
    "MGPpot = dens_real_space.energy_potential(kernel=MGPker,a=(5.0/6.0),c=1.0)\n",
    "MGPpotential = Grid_Function(dens_real_space.grid_space,griddata_3d=(5.0/6.0)*2.0*MGPpot.values*dens_real_space.values**(5.0/6.0-1.0))"
   ]
  },
  {
   "cell_type": "code",
   "execution_count": 23,
   "metadata": {
    "collapsed": true
   },
   "outputs": [],
   "source": [
    "MGP_Functional = Functional( \n",
    "    energydensity=MGPdens.sum(vonWeizsacker.energydensity.sum(ThomasFermi.energydensity)), \\\n",
    "    potential=MGPpotential.sum(vonWeizsacker.potential.sum(ThomasFermi.potential)),kernel=MGPker)"
   ]
  },
  {
   "cell_type": "code",
   "execution_count": 24,
   "metadata": {},
   "outputs": [
    {
     "data": {
      "image/png": "[encoded data removed]",
      "text/plain": [
       "<matplotlib.figure.Figure at 0x10f47b860>"
      ]
     },
     "metadata": {},
     "output_type": "display_data"
    }
   ],
   "source": [
    "#plt.plot(ThomasFermi.potential.values[:,0,0])\n",
    "plt.plot(vonWeizsacker.potential.values[:,0,0])\n",
    "#plt.plot(GEA2.potential.values[:,0,0],c='black')\n",
    "plt.plot(WT_Functional.potential.values[:,0,0],c='red')\n",
    "#plt.plot(MGP_Functional.potential.values[:,0,0]-WT_Functional.potential.values[:,0,0],c='black')\n",
    "plt.xlim(0,10)\n",
    "#plt.ylim(-0.2,0.5)\n",
    "plt.show()"
   ]
  },
  {
   "cell_type": "code",
   "execution_count": 25,
   "metadata": {},
   "outputs": [
    {
     "name": "stdout",
     "output_type": "stream",
     "text": [
      "['WT', 'MGP', 'GEA2', 'TF+vW', 'TF', 'vW']\n",
      "[ 80.52358423  80.52358423  49.94310407  97.37854154  44.01367439\n",
      "  41.99820874]\n"
     ]
    }
   ],
   "source": [
    "print(['WT','MGP','GEA2','TF+vW','TF','vW'])\n",
    "print (27.211385*np.array([WT_Functional.energydensity.integral(),MGP_Functional.energydensity.integral(),GEA2.energydensity.integral(),TFvW.energydensity.integral(),ThomasFermi.energydensity.integral(),vonWeizsacker.energydensity.integral()]))"
   ]
  },
  {
   "cell_type": "markdown",
   "metadata": {},
   "source": [
    "# Hartree energy and potential"
   ]
  },
  {
   "cell_type": "code",
   "execution_count": 26,
   "metadata": {
    "collapsed": true
   },
   "outputs": [],
   "source": [
    "f=q.copy()\n",
    "f[np.where(q != 0)] = 4*np.pi/q[np.where(q != 0)]**2"
   ]
  },
  {
   "cell_type": "code",
   "execution_count": 27,
   "metadata": {
    "collapsed": true
   },
   "outputs": [],
   "source": [
    "Hartree = Functional(energydensity=dens_real_space.energy_density(kernel=f,a=1.0,b=1.0,c=1.0),potential=dens_real_space.energy_potential(kernel=f,a=1.0,c=1.0),kernel=f)"
   ]
  },
  {
   "cell_type": "code",
   "execution_count": 36,
   "metadata": {},
   "outputs": [
    {
     "data": {
      "text/plain": [
       "0.014359418230940422"
      ]
     },
     "execution_count": 36,
     "metadata": {},
     "output_type": "execute_result"
    }
   ],
   "source": [
    "Hartree.energydensity.integral()"
   ]
  },
  {
   "cell_type": "code",
   "execution_count": 29,
   "metadata": {},
   "outputs": [
    {
     "data": {
      "image/png": "[encoded data removed]",
      "text/plain": [
       "<matplotlib.figure.Figure at 0x10f47b320>"
      ]
     },
     "metadata": {},
     "output_type": "display_data"
    }
   ],
   "source": [
    "plt.plot(Hartree.potential.values[:,0,0])\n",
    "plt.show()"
   ]
  },
  {
   "cell_type": "markdown",
   "metadata": {},
   "source": [
    "# $E_{Nel}$ energy and potential"
   ]
  },
  {
   "cell_type": "code",
   "execution_count": 31,
   "metadata": {
    "collapsed": true
   },
   "outputs": [],
   "source": [
    "natoms=np.shape(mol.ions)[0]"
   ]
  },
  {
   "cell_type": "code",
   "execution_count": 32,
   "metadata": {},
   "outputs": [
    {
     "name": "stdout",
     "output_type": "stream",
     "text": [
      "Recpot pseudopotential ./Al_lda.oe01.recpot loaded\n",
      "Recpot pseudopotential ./Al_lda.oe01.recpot loaded\n"
     ]
    }
   ],
   "source": [
    "NuclearElectron = mol.ions[0].Get_eN_Interaction(grid_space=grid_real,rho=dens_real_space,outfile='./Al_lda.oe01.recpot')\n",
    "for i in range(1,natoms,1):\n",
    "    eN_tmp = mol.ions[i].Get_eN_Interaction(grid_space=grid_real,rho=dens_real_space,outfile='./Al_lda.oe01.recpot')\n",
    "    NuclearElectron = NuclearElectron.sum(eN_tmp)"
   ]
  },
  {
   "cell_type": "code",
   "execution_count": 33,
   "metadata": {},
   "outputs": [
    {
     "data": {
      "text/plain": [
       "-4.1318848457810287"
      ]
     },
     "execution_count": 33,
     "metadata": {},
     "output_type": "execute_result"
    }
   ],
   "source": [
    "NuclearElectron.energydensity.integral()"
   ]
  },
  {
   "cell_type": "code",
   "execution_count": 34,
   "metadata": {
    "collapsed": true
   },
   "outputs": [],
   "source": [
    "TF_TotalEnergy = ThomasFermi.sum(NuclearElectron).sum(Hartree)"
   ]
  },
  {
   "cell_type": "code",
   "execution_count": 35,
   "metadata": {},
   "outputs": [
    {
     "data": {
      "text/plain": [
       "-2.5000526531841003"
      ]
     },
     "execution_count": 35,
     "metadata": {},
     "output_type": "execute_result"
    }
   ],
   "source": [
    "TF_TotalEnergy.energydensity.integral()"
   ]
  },
  {
   "cell_type": "code",
   "execution_count": null,
   "metadata": {
    "collapsed": true
   },
   "outputs": [],
   "source": []
  },
  {
   "cell_type": "code",
   "execution_count": 76,
   "metadata": {},
   "outputs": [
    {
     "data": {
      "text/plain": [
       "-11.830222149392036"
      ]
     },
     "execution_count": 76,
     "metadata": {},
     "output_type": "execute_result"
    }
   ],
   "source": [
    "27.211385*(ThomasFermi.energydensity.integral()+Hartree.energydensity.integral()+NuclearElectron.energydensity.integral())"
   ]
  },
  {
   "cell_type": "code",
   "execution_count": null,
   "metadata": {
    "collapsed": true
   },
   "outputs": [],
   "source": [
    "E0 = "
   ]
  },
  {
   "cell_type": "code",
   "execution_count": null,
   "metadata": {
    "collapsed": true
   },
   "outputs": [],
   "source": []
  },
  {
   "cell_type": "code",
   "execution_count": null,
   "metadata": {
    "collapsed": true
   },
   "outputs": [],
   "source": []
  }
 ],
 "metadata": {
  "kernelspec": {
   "display_name": "Python 3",
   "language": "python",
   "name": "python3"
  },
  "language_info": {
   "codemirror_mode": {
    "name": "ipython",
    "version": 3
   },
   "file_extension": ".py",
   "mimetype": "text/x-python",
   "name": "python",
   "nbconvert_exporter": "python",
   "pygments_lexer": "ipython3",
   "version": "3.6.3"
  }
 },
 "nbformat": 4,
 "nbformat_minor": 2
}
