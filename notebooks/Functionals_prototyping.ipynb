{
 "cells": [
  {
   "cell_type": "code",
   "execution_count": 1,
   "metadata": {
    "collapsed": true
   },
   "outputs": [],
   "source": [
    "import numpy as np\n",
    "import scipy.special as sp\n",
    "import matplotlib.pyplot as plt"
   ]
  },
  {
   "cell_type": "code",
   "execution_count": 2,
   "metadata": {
    "collapsed": true
   },
   "outputs": [],
   "source": [
    "from pbcpy.base import Cell\n",
    "from pbcpy.grid import Grid\n",
    "#"
   ]
  },
  {
   "cell_type": "code",
   "execution_count": 3,
   "metadata": {
    "collapsed": true
   },
   "outputs": [],
   "source": [
    "from pbcpy.grid_functions import Grid_Function_Base, Grid_Function, Grid_Function_Reciprocal, Grid_Space"
   ]
  },
  {
   "cell_type": "code",
   "execution_count": 4,
   "metadata": {
    "collapsed": true
   },
   "outputs": [],
   "source": [
    "from pbcpy.functionals import Functional"
   ]
  },
  {
   "cell_type": "code",
   "execution_count": 5,
   "metadata": {},
   "outputs": [],
   "source": [
    "from pbcpy.local_functionals_utils import ThomasFermiEnergy, ThomasFermiPotential\n",
    "from pbcpy.local_functionals_utils import vonWeizsackerEnergy, vonWeizsackerPotential"
   ]
  },
  {
   "cell_type": "code",
   "execution_count": 6,
   "metadata": {
    "collapsed": true
   },
   "outputs": [],
   "source": [
    "from pbcpy.formats.qepp import PP\n",
    "from pbcpy.formats.xsf import XSF"
   ]
  },
  {
   "cell_type": "code",
   "execution_count": 7,
   "metadata": {
    "collapsed": true
   },
   "outputs": [],
   "source": [
    "mol = PP(filepp='Al_fde_rho.pp').read()"
   ]
  },
  {
   "cell_type": "code",
   "execution_count": 8,
   "metadata": {
    "collapsed": true
   },
   "outputs": [],
   "source": [
    "density = mol.plot"
   ]
  },
  {
   "cell_type": "code",
   "execution_count": 9,
   "metadata": {
    "collapsed": true
   },
   "outputs": [],
   "source": [
    "grid_real             = Grid_Space(density.grid.at,density.grid.nr)\n",
    "dens_real_space       = Grid_Function(grid_real,griddata_3d=density.values)"
   ]
  },
  {
   "cell_type": "code",
   "execution_count": 10,
   "metadata": {
    "collapsed": true
   },
   "outputs": [],
   "source": [
    "ThomasFermi = Functional(energydensity=ThomasFermiEnergy(dens_real_space),\n",
    "                         potential=ThomasFermiPotential(dens_real_space))"
   ]
  },
  {
   "cell_type": "code",
   "execution_count": 11,
   "metadata": {},
   "outputs": [],
   "source": [
    "vonWeizsacker = Functional(energydensity=vonWeizsackerEnergy(dens_real_space,SmoothingFactor=0.035),\n",
    "                           potential=vonWeizsackerPotential(dens_real_space,SmoothingFactor=0.035))"
   ]
  },
  {
   "cell_type": "code",
   "execution_count": 12,
   "metadata": {
    "collapsed": true
   },
   "outputs": [],
   "source": [
    "GEA2 = Functional(energydensity=ThomasFermiEnergy(dens_real_space).sum(\n",
    "                      vonWeizsackerEnergy(dens_real_space).dot(g=1.0/9.0)),\n",
    "                  potential=ThomasFermiPotential(dens_real_space).sum(\n",
    "                      vonWeizsackerPotential(dens_real_space).dot(g=1.0/9.0)))"
   ]
  },
  {
   "cell_type": "code",
   "execution_count": 31,
   "metadata": {
    "collapsed": true
   },
   "outputs": [],
   "source": [
    "TFvW = Functional(energydensity=ThomasFermiEnergy(dens_real_space).sum(\n",
    "                      vonWeizsackerEnergy(dens_real_space)),\n",
    "                  potential=ThomasFermiPotential(dens_real_space).sum(\n",
    "                      vonWeizsackerPotential(dens_real_space)))"
   ]
  },
  {
   "cell_type": "code",
   "execution_count": 32,
   "metadata": {},
   "outputs": [
    {
     "name": "stdout",
     "output_type": "stream",
     "text": [
      "3.57859556005\n"
     ]
    }
   ],
   "source": [
    "Energy = TFvW.energydensity.integral()\n",
    "print(Energy)"
   ]
  },
  {
   "cell_type": "code",
   "execution_count": 33,
   "metadata": {},
   "outputs": [
    {
     "data": {
      "image/png": "[encoded data removed]",
      "text/plain": [
       "<matplotlib.figure.Figure at 0x11471a0f0>"
      ]
     },
     "metadata": {},
     "output_type": "display_data"
    }
   ],
   "source": [
    "plt.plot(ThomasFermi.potential.values[:,25,36])\n",
    "plt.plot(vonWeizsacker.potential.values[:,25,36])\n",
    "plt.plot(TFvW.potential.values[:,25,36],c='black')\n",
    "#plt.ylim(-0.2,0.5)\n",
    "plt.show()"
   ]
  },
  {
   "cell_type": "code",
   "execution_count": 15,
   "metadata": {
    "collapsed": true
   },
   "outputs": [],
   "source": [
    "def LindhardFunction(eta,lbda,mu):\n",
    "    '''\n",
    "    The Inverse Lindhard Function\n",
    "    \n",
    "    Attributes\n",
    "    ----------\n",
    "    eta: numpy array\n",
    "    lbda, mu: floats (TF and vW contributions)\n",
    "    \n",
    "    '''\n",
    "    if isinstance(eta, (np.ndarray, np.generic)):\n",
    "        #\n",
    "        cond0 = ((eta > 0.0) & (np.abs(eta - 1.0) > 1.0e-10))\n",
    "        cond1 = eta < 1.0e-10 \n",
    "        cond2 = np.abs(eta - 1.0) < 1.0e-10\n",
    "        cond3 = eta > 3.65\n",
    "        cond11 = eta > 1.0e-10\n",
    "        \n",
    "        invEta2 = eta.copy()\n",
    "        invEta2[cond11] = 1.0 / eta[cond11]**2\n",
    "\n",
    "        #    \n",
    "        indx0 = cond0\n",
    "        indx1 = np.where( cond1 )\n",
    "        indx2 = np.where( cond2 )\n",
    "        indx3 = np.where( cond3 )\n",
    "        \n",
    "        LindG = eta.copy()\n",
    "        \n",
    "        \n",
    "        LindG[indx0] = 1.0 / (0.5 + 0.25*(1.0-eta[indx0]**2)* \n",
    "                    np.log((1.0 + eta[indx0])/np.abs(1.0-eta[indx0]))/eta[indx0])-3.0 * mu * eta[indx0]**2 - lbda\n",
    "\n",
    "        LindG[indx1] = 1.0 - lbda + eta[indx1]**2 * (1.0 / 3.0 - 3.0 * mu)\n",
    "        LindG[indx2] = 2.0 - lbda - 3.0 * mu + 20.0 * (eta[indx2]-1.0)\n",
    "        LindG[indx3] = 3.0*(1.0-mu)*eta[indx3]**2-lbda-0.6   \\\n",
    "                + invEta2[indx3] * (-0.13714285714285712     \\\n",
    "                + invEta2[indx3] * (-6.39999999999999875E-2  \\\n",
    "                + invEta2[indx3] * (-3.77825602968460128E-2  \\\n",
    "                + invEta2[indx3] * (-2.51824061652633074E-2  \\\n",
    "                + invEta2[indx3] * (-1.80879839616166146E-2  \\\n",
    "                + invEta2[indx3] * (-1.36715733124818332E-2  \\\n",
    "                + invEta2[indx3] * (-1.07236045520990083E-2  \\\n",
    "                + invEta2[indx3] * (-8.65192783339199453E-3  \\\n",
    "                + invEta2[indx3] * (-7.1372762502456763E-3   \\\n",
    "                + invEta2[indx3] * (-5.9945117538835746E-3   \\\n",
    "                + invEta2[indx3] * (-5.10997527675418131E-3  \\\n",
    "                + invEta2[indx3] * (-4.41060829979912465E-3  \\\n",
    "                + invEta2[indx3] * (-3.84763737842981233E-3  \\\n",
    "                + invEta2[indx3] * (-3.38745061493813488E-3  \\\n",
    "                + invEta2[indx3] * (-3.00624946457977689E-3) \\\n",
    "                                   ))))))))))))))\n",
    "        return LindG"
   ]
  },
  {
   "cell_type": "code",
   "execution_count": 16,
   "metadata": {
    "collapsed": true
   },
   "outputs": [],
   "source": [
    "def MGP_kernel(q,rho0,LumpFactor,MaxPoints):\n",
    "        ''' \n",
    "        The MGP Kernel\n",
    "        '''\n",
    "        #cTF_WT = 2.87123400018819\n",
    "        cTF = np.pi**2/(3.0 * np.pi**2)**(1.0/3.0)\n",
    "        tkf = 2.0 * (3.0 * rho0 * np.pi**2)**(1.0/3.0)\n",
    "        t_var  = 1.0/(MaxPoints)\n",
    "        deltat = 1.0/(MaxPoints)\n",
    "        dt     = deltat / 100\n",
    "\n",
    "        kertmp = np.zeros(np.shape(q))\n",
    "        \n",
    "        for i_var in range(MaxPoints):\n",
    "            kertmp = kertmp + \\\n",
    "            0.5*((LindhardFunction(q/(tkf*(t_var+dt)**(1.0/3.0)),-0.60,1.0) \\\n",
    "            -LindhardFunction(q/(tkf*(t_var-dt)**(1.0/3.0)),-0.60,1.0))/dt)* \\\n",
    "            t_var**(5.0/6.0)\n",
    "            #\n",
    "            t_var = t_var + deltat\n",
    "            \n",
    "        tmpker1 = -1.2*kertmp*deltat\n",
    "        indx    = np.where(q != 0)\n",
    "        tmpker2 = kertmp.copy()\n",
    "        tmpker2[indx] = 4*np.pi*sp.erf(q[indx])**2*LumpFactor*np.exp(-q[indx]**2*LumpFactor)/q[indx]**2/cTF\n",
    "        indx    = np.where(q == 0)\n",
    "        tmpker2[indx] = q[indx]**2\n",
    "        tmpker3 = 1.2*LindhardFunction(q/tkf,1.0,1.0) \n",
    "        \n",
    "        return (tmpker1 + tmpker2 + tmpker3)*cTF #*cTF_WT"
   ]
  },
  {
   "cell_type": "code",
   "execution_count": 17,
   "metadata": {
    "collapsed": true
   },
   "outputs": [],
   "source": [
    "def WT_kernel(q,rho0):\n",
    "        ''' \n",
    "        The WT Kernel\n",
    "        '''\n",
    "        cTF = np.pi**2/(3.0 * np.pi**2)**(1.0/3.0) #2.87123400018819\n",
    "        tkf = 2.0 * (3.0 * rho0 * np.pi**2)**(1.0/3.0)\n",
    "                \n",
    "        return (1.2*LindhardFunction(q/tkf,1.0,1.0))*cTF"
   ]
  },
  {
   "cell_type": "code",
   "execution_count": 18,
   "metadata": {
    "scrolled": true
   },
   "outputs": [
    {
     "data": {
      "image/png": "[encoded data removed]",
      "text/plain": [
       "<matplotlib.figure.Figure at 0x111856518>"
      ]
     },
     "metadata": {},
     "output_type": "display_data"
    }
   ],
   "source": [
    "#\n",
    "# Kernels from the real Al density and G-points\n",
    "#\n",
    "gmpker = MGP_kernel(grid_real.reciprocal_grid.dist_values(),dens_real_space.integral()/mol.cell.omega,0.3,100)\n",
    "wtker = WT_kernel(grid_real.reciprocal_grid.dist_values(),dens_real_space.integral()/mol.cell.omega)\n",
    "eta = grid_real.reciprocal_grid.dist_values()/(2.0 * (3.0 * dens_real_space.integral()/mol.cell.omega * np.pi**2)**(1.0/3.0))\n",
    "\n",
    "reta = np.reshape(eta,36*36*72)\n",
    "rmgp = np.reshape(gmpker,36*36*72)\n",
    "rwt = np.reshape(wtker,36*36*72)\n",
    "indx = np.argsort(reta)\n",
    "\n",
    "plt.plot(reta[indx],rwt[indx],color='black')\n",
    "plt.plot(reta[indx],rmgp[indx])\n",
    "#plt.ylim(-1.94,-1.9)\n",
    "plt.xlim(0,5)\n",
    "plt.show()"
   ]
  },
  {
   "cell_type": "markdown",
   "metadata": {},
   "source": [
    "#\n",
    "# Cute-looking kernels\n",
    "#\n",
    "q=np.linspace(0.1,4,1000)\n",
    "gmpker = MGP_kernel(q,dens_real_space.integral()/mol.cell.omega,0.3,500)\n",
    "wtker = WT_kernel(q,dens_real_space.integral()/mol.cell.omega)\n",
    "eta = q/(2.0 * (3.0 * dens_real_space.integral()/mol.cell.omega * np.pi**2)**(1.0/3.0))\n",
    "plt.plot(eta,wtker,color='black')\n",
    "plt.plot(eta,gmpker)\n",
    "plt.show()"
   ]
  },
  {
   "cell_type": "code",
   "execution_count": 19,
   "metadata": {},
   "outputs": [
    {
     "data": {
      "text/plain": [
       "0.026847694907688513"
      ]
     },
     "execution_count": 19,
     "metadata": {},
     "output_type": "execute_result"
    }
   ],
   "source": [
    "dens_real_space.integral()/mol.cell.omega"
   ]
  },
  {
   "cell_type": "code",
   "execution_count": 20,
   "metadata": {
    "collapsed": true
   },
   "outputs": [],
   "source": [
    "wtker = WT_kernel(grid_real.reciprocal_grid.dist_values(),dens_real_space.integral()/mol.cell.omega)"
   ]
  },
  {
   "cell_type": "code",
   "execution_count": 21,
   "metadata": {
    "collapsed": true
   },
   "outputs": [],
   "source": [
    "WTdens = dens_real_space.energy_density(kernel=wtker,a=(5.0/6.0),b=(5.0/6.0),c=1.0)\n",
    "WTpot = dens_real_space.energy_potential(kernel=wtker,a=(5.0/6.0),c=1.0)\n",
    "WTpotential = Grid_Function(dens_real_space.grid_space,griddata_3d=(5.0/6.0)*2.0*WTpot.values*dens_real_space.values**(5.0/6.0-1.0))"
   ]
  },
  {
   "cell_type": "code",
   "execution_count": 22,
   "metadata": {
    "collapsed": true
   },
   "outputs": [],
   "source": [
    "WT_Functional = Functional( \n",
    "    energydensity=WTdens.sum(vonWeizsacker.energydensity.sum(ThomasFermi.energydensity)), \\\n",
    "    potential=WTpotential.sum(vonWeizsacker.potential.sum(ThomasFermi.potential)),kernel=wtker)"
   ]
  },
  {
   "cell_type": "code",
   "execution_count": 23,
   "metadata": {
    "collapsed": true
   },
   "outputs": [],
   "source": [
    "MGPker = MGP_kernel(grid_real.reciprocal_grid.dist_values(),dens_real_space.integral()/mol.cell.omega,0.03,400)"
   ]
  },
  {
   "cell_type": "code",
   "execution_count": 24,
   "metadata": {
    "collapsed": true
   },
   "outputs": [],
   "source": [
    "MGPdens = dens_real_space.energy_density(kernel=MGPker,a=(5.0/6.0),b=(5.0/6.0),c=1.0)\n",
    "MGPpot = dens_real_space.energy_potential(kernel=MGPker,a=(5.0/6.0),c=1.0)\n",
    "MGPpotential = Grid_Function(dens_real_space.grid_space,griddata_3d=(5.0/6.0)*2.0*MGPpot.values*dens_real_space.values**(5.0/6.0-1.0))"
   ]
  },
  {
   "cell_type": "code",
   "execution_count": 25,
   "metadata": {
    "collapsed": true
   },
   "outputs": [],
   "source": [
    "MGP_Functional = Functional( \n",
    "    energydensity=MGPdens.sum(vonWeizsacker.energydensity.sum(ThomasFermi.energydensity)), \\\n",
    "    potential=MGPpotential.sum(vonWeizsacker.potential.sum(ThomasFermi.potential)),kernel=MGPker)"
   ]
  },
  {
   "cell_type": "code",
   "execution_count": 29,
   "metadata": {},
   "outputs": [
    {
     "data": {
      "image/png": "[encoded data removed]",
      "text/plain": [
       "<matplotlib.figure.Figure at 0x1151ce5c0>"
      ]
     },
     "metadata": {},
     "output_type": "display_data"
    }
   ],
   "source": [
    "#plt.plot(ThomasFermi.potential.values[:,0,0])\n",
    "plt.plot(vonWeizsacker.potential.values[:,0,0])\n",
    "#plt.plot(GEA2.potential.values[:,0,0],c='black')\n",
    "plt.plot(WT_Functional.potential.values[:,0,0],c='red')\n",
    "#plt.plot(MGP_Functional.potential.values[:,0,0]-WT_Functional.potential.values[:,0,0],c='black')\n",
    "plt.xlim(0,10)\n",
    "#plt.ylim(-0.2,0.5)\n",
    "plt.show()"
   ]
  },
  {
   "cell_type": "code",
   "execution_count": 34,
   "metadata": {},
   "outputs": [
    {
     "name": "stdout",
     "output_type": "stream",
     "text": [
      "3.21743577657 3.22141392368 3.57859556005\n"
     ]
    }
   ],
   "source": [
    "print (WT_Functional.energydensity.integral(),MGP_Functional.energydensity.integral(),TFvW.energydensity.integral())"
   ]
  },
  {
   "cell_type": "code",
   "execution_count": null,
   "metadata": {
    "collapsed": true
   },
   "outputs": [],
   "source": []
  }
 ],
 "metadata": {
  "kernelspec": {
   "display_name": "Python 3",
   "language": "python",
   "name": "python3"
  },
  "language_info": {
   "codemirror_mode": {
    "name": "ipython",
    "version": 3
   },
   "file_extension": ".py",
   "mimetype": "text/x-python",
   "name": "python",
   "nbconvert_exporter": "python",
   "pygments_lexer": "ipython3",
   "version": "3.6.3"
  }
 },
 "nbformat": 4,
 "nbformat_minor": 2
}
